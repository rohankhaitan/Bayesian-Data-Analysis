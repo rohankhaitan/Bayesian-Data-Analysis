{
  "nbformat": 4,
  "nbformat_minor": 0,
  "metadata": {
    "colab": {
      "name": "stan_example_01.ipynb",
      "provenance": [],
      "collapsed_sections": []
    },
    "kernelspec": {
      "name": "ir",
      "display_name": "R"
    }
  },
  "cells": [
    {
      "cell_type": "markdown",
      "metadata": {
        "id": "inL4dtwpdfXY",
        "colab_type": "text"
      },
      "source": [
        "## **Beta Binomial Model**"
      ]
    },
    {
      "cell_type": "code",
      "metadata": {
        "id": "mpz00BIIwesR",
        "colab_type": "code",
        "colab": {
          "base_uri": "https://localhost:8080/",
          "height": 69
        },
        "outputId": "de695b31-3374-47c3-dc93-ca56b90f98fc"
      },
      "source": [
        "###################\n",
        "## Install rstan\n",
        "##################\n",
        "\n",
        "install.packages('rstan')\n",
        "options(repr.plot.width  = 3,\n",
        "        repr.plot.height = 3)\n",
        "Sys.setenv(USE_CXX14 = 1)\n",
        "library(\"rstan\") # observe startup messages\n",
        "options(mc.cores = parallel::detectCores())\n",
        "rstan_options(auto_write = TRUE)"
      ],
      "execution_count": null,
      "outputs": [
        {
          "output_type": "stream",
          "text": [
            "Installing package into ‘/usr/local/lib/R/site-library’\n",
            "(as ‘lib’ is unspecified)\n",
            "\n"
          ],
          "name": "stderr"
        }
      ]
    },
    {
      "cell_type": "markdown",
      "metadata": {
        "id": "8cK5KBxSMshG",
        "colab_type": "text"
      },
      "source": [
        "## **Implementation of beta-binomial with stan**"
      ]
    },
    {
      "cell_type": "code",
      "metadata": {
        "id": "3cyyubVkJbfD",
        "colab_type": "code",
        "colab": {
          "base_uri": "https://localhost:8080/",
          "height": 381
        },
        "outputId": "16176fc6-fd72-491e-f132-710bcbba3b0f"
      },
      "source": [
        "## Data\n",
        "y = c(1, 1, 0, 0, 0, 0, 0, 0, 0, 1)\n",
        "N = length(y)\n",
        "\n",
        "## maximum likelihood estimate\n",
        "mle <- sum(y)/N\n",
        "cat('MLE = ',mle,\"\\n\")\n",
        "\n",
        "## posterior mean under Beta(1,1) prior\n",
        "a <-1\n",
        "b <-1\n",
        "post_mean <- (sum(y)+a)/(N+a+b)  \n",
        "\n",
        "cat('Posterior mean = ',round(post_mean,2), ' Exact result',\"\\n\")\n",
        "\n",
        "## Posterior analysis simulating from posterior distribution\n",
        "cat('Postrior Analysis with Numerical Simulation',\"\\n\")\n",
        "S <-sum(y)\n",
        "sim.size<-100\n",
        "theta_star<- rbeta(sim.size,S+a,N-S+b)\n",
        "round(mean(theta_star),2)\n",
        "## standard deviation\n",
        "round(sd(theta_star),2)\n",
        "## 95% Confidence interval\n",
        "round(quantile(theta_star,probs = c(0.025,0.975)),2)\n",
        "hist(theta_star,probability = T,col=\"orange\",main=\"\")"
      ],
      "execution_count": null,
      "outputs": [
        {
          "output_type": "stream",
          "text": [
            "MLE =  0.3 \n",
            "Posterior mean =  0.33  Exact result \n",
            "Postrior Analysis with Numerical Simulation \n"
          ],
          "name": "stdout"
        },
        {
          "output_type": "display_data",
          "data": {
            "text/plain": [
              "[1] 0.32"
            ],
            "text/latex": "0.32",
            "text/markdown": "0.32",
            "text/html": [
              "0.32"
            ]
          },
          "metadata": {
            "tags": []
          }
        },
        {
          "output_type": "display_data",
          "data": {
            "text/plain": [
              "[1] 0.12"
            ],
            "text/latex": "0.12",
            "text/markdown": "0.12",
            "text/html": [
              "0.12"
            ]
          },
          "metadata": {
            "tags": []
          }
        },
        {
          "output_type": "display_data",
          "data": {
            "text/plain": [
              " 2.5% 97.5% \n",
              " 0.10  0.54 "
            ],
            "text/latex": "\\begin{description*}\n\\item[2.5\\textbackslash{}\\%] 0.1\n\\item[97.5\\textbackslash{}\\%] 0.54\n\\end{description*}\n",
            "text/markdown": "2.5%\n:   0.197.5%\n:   0.54\n\n",
            "text/html": [
              "<dl class=dl-horizontal>\n",
              "\t<dt>2.5%</dt>\n",
              "\t\t<dd>0.1</dd>\n",
              "\t<dt>97.5%</dt>\n",
              "\t\t<dd>0.54</dd>\n",
              "</dl>\n"
            ]
          },
          "metadata": {
            "tags": []
          }
        },
        {
          "output_type": "display_data",
          "data": {
            "image/png": "[encoded data removed]",
            "text/plain": [
              "Plot with title “”"
            ]
          },
          "metadata": {
            "tags": [],
            "image/png": {
              "width": 180,
              "height": 180
            },
            "text/plain": {
              "width": 180,
              "height": 180
            }
          }
        }
      ]
    },
    {
      "cell_type": "markdown",
      "metadata": {
        "id": "w6G8pSpxOPsP",
        "colab_type": "text"
      },
      "source": [
        "- This is analytical solution of $\\theta$ under Beta($\\alpha=1$,$\\beta=1$) prior.\n",
        "\n",
        "- Now we are going to implement the numerical solution for $\\theta$ under Beta($\\alpha=1$,$\\beta=1$) prior using the Stan.\n",
        "\n",
        "- First we write the Stan code for beta-binomial model"
      ]
    },
    {
      "cell_type": "code",
      "metadata": {
        "id": "nDZE19PvNuvP",
        "colab_type": "code",
        "colab": {}
      },
      "source": [
        "## Stan code for beta binomial model\n",
        "beta_binomial_stan <- \"data {\n",
        "                        int<lower=0> N;                  // N >= 0\n",
        "                        int<lower=0,upper=1> y[N];       // y[n] in { 0, 1 }\n",
        "                       }\n",
        "\n",
        "                       parameters {\n",
        "                          real<lower=0,upper=1> theta;         // theta in [0, 1]\n",
        "                       }\n",
        "\n",
        "                      model {\n",
        "                        theta ~ beta(1,1);               // prior\n",
        "                        y ~ bernoulli(theta);            // likelihood\n",
        "                      }\"\n"
      ],
      "execution_count": null,
      "outputs": []
    },
    {
      "cell_type": "markdown",
      "metadata": {
        "id": "gep1y-FBPUNd",
        "colab_type": "text"
      },
      "source": [
        "- Define all known part of the model as list and it will go as data in the model"
      ]
    },
    {
      "cell_type": "code",
      "metadata": {
        "id": "2-iAVk09POjo",
        "colab_type": "code",
        "colab": {
          "base_uri": "https://localhost:8080/",
          "height": 475
        },
        "outputId": "0d3abc82-7729-4143-f02d-affd000b57e0"
      },
      "source": [
        "## Data\n",
        "dat <- list(N = N, y = y);\n",
        "\n",
        "fit <- stan(model_code = beta_binomial_stan\n",
        "            , model_name = \"example\"\n",
        "            , data = dat\n",
        "            , iter = 2000\n",
        "            , chains = 2\n",
        "            , verbose = FALSE\n",
        "            , refresh = -1)\n",
        "print(fit)\n",
        "\n",
        "plot(fit)"
      ],
      "execution_count": null,
      "outputs": [
        {
          "output_type": "stream",
          "text": [
            "Inference for Stan model: example.\n",
            "2 chains, each with iter=2000; warmup=1000; thin=1; \n",
            "post-warmup draws per chain=1000, total post-warmup draws=2000.\n",
            "\n",
            "       mean se_mean   sd   2.5%   25%   50%   75% 97.5% n_eff Rhat\n",
            "theta  0.33    0.00 0.13   0.11  0.23  0.32  0.41  0.60   788    1\n",
            "lp__  -8.14    0.03 0.73 -10.25 -8.28 -7.87 -7.69 -7.64   747    1\n",
            "\n",
            "Samples were drawn using NUTS(diag_e) at Mon Feb  3 04:12:15 2020.\n",
            "For each parameter, n_eff is a crude measure of effective sample size,\n",
            "and Rhat is the potential scale reduction factor on split chains (at \n",
            "convergence, Rhat=1).\n"
          ],
          "name": "stdout"
        },
        {
          "output_type": "stream",
          "text": [
            "ci_level: 0.8 (80% intervals)\n",
            "\n",
            "outer_level: 0.95 (95% intervals)\n",
            "\n"
          ],
          "name": "stderr"
        },
        {
          "output_type": "display_data",
          "data": {
            "image/png": "[encoded data removed]",
            "text/plain": [
              "plot without title"
            ]
          },
          "metadata": {
            "tags": [],
            "image/png": {
              "width": 180,
              "height": 180
            },
            "text/plain": {
              "width": 180,
              "height": 180
            }
          }
        }
      ]
    }
  ]
}